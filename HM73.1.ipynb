{
 "cells": [
  {
   "cell_type": "markdown",
   "metadata": {},
   "source": [
    "## Homework 3\n",
    "\n",
    "### CNN on CIFAR10"
   ]
  },
  {
   "cell_type": "code",
   "execution_count": 1,
   "metadata": {},
   "outputs": [
    {
     "name": "stdout",
     "output_type": "stream",
     "text": [
      "Device: cpu\n"
     ]
    }
   ],
   "source": [
    "import numpy as np\n",
    "from utils.misc import get_params_num, get_accuracy\n",
    "\n",
    "import torch\n",
    "from torch import nn\n",
    "from torch import optim\n",
    "import torch.nn.functional as F\n",
    "\n",
    "import torchvision\n",
    "from torchvision import transforms\n",
    "from IPython import display\n",
    "\n",
    "torch.manual_seed(1)\n",
    "\n",
    "device = torch.device(\"cuda:0\" if torch.cuda.is_available() else \"cpu\")\n",
    "print('Device: {}'.format(device))"
   ]
  },
  {
   "cell_type": "code",
   "execution_count": 2,
   "metadata": {},
   "outputs": [
    {
     "name": "stdout",
     "output_type": "stream",
     "text": [
      "Files already downloaded and verified\n",
      "Files already downloaded and verified\n",
      "CIFAR images shape: (3, 32, 32)\n"
     ]
    }
   ],
   "source": [
    "# import CIFAR10\n",
    "transform = transforms.Compose(\n",
    "    [transforms.ToTensor(),\n",
    "     transforms.Normalize((0.5, 0.5, 0.5), (0.5, 0.5, 0.5))])\n",
    "\n",
    "trainset = torchvision.datasets.CIFAR10(root='./data', train=True,\n",
    "                                        download=True, transform=transform)\n",
    "trainloader = torch.utils.data.DataLoader(trainset, batch_size=64,\n",
    "                                          shuffle=True, num_workers=2)\n",
    "\n",
    "testset = torchvision.datasets.CIFAR10(root='./data', train=False,\n",
    "                                       download=True, transform=transform)\n",
    "testloader = torch.utils.data.DataLoader(testset, batch_size=64,\n",
    "                                         shuffle=False, num_workers=2)\n",
    "\n",
    "print(\"CIFAR images shape: {}\".format(tuple(trainset[0][0].shape)))"
   ]
  },
  {
   "cell_type": "code",
   "execution_count": 40,
   "metadata": {},
   "outputs": [
    {
     "name": "stdout",
     "output_type": "stream",
     "text": [
      "# of parameters: 247382\n",
      "CNN(\n",
      "  (network): Sequential(\n",
      "    (0): Conv2d(3, 256, kernel_size=(3, 3), stride=(1, 1))\n",
      "    (1): ELU(alpha=1.0)\n",
      "    (2): AvgPool2d(kernel_size=2, stride=2, padding=0)\n",
      "    (3): ResidualBlock(\n",
      "      (bottleneck): Bottleneck(\n",
      "        (bottleneck): Conv2d(256, 128, kernel_size=(1, 1), stride=(1, 1))\n",
      "        (maxpo): MaxPool2d(kernel_size=1, stride=1, padding=0, dilation=1, ceil_mode=False)\n",
      "        (conv): Conv2d(128, 128, kernel_size=(3, 3), stride=(1, 1), padding=(1, 1))\n",
      "        (maxpo2): MaxPool2d(kernel_size=1, stride=1, padding=0, dilation=1, ceil_mode=False)\n",
      "        (expansion): Conv2d(128, 256, kernel_size=(1, 1), stride=(1, 1))\n",
      "        (act): ReLU()\n",
      "      )\n",
      "    )\n",
      "    (4): LeakyReLU(negative_slope=0.01)\n",
      "    (5): GlobalAveragePooling()\n",
      "    (6): Linear(in_features=256, out_features=100, bias=True)\n",
      "    (7): ReLU()\n",
      "    (8): Dropout(p=0.3, inplace=False)\n",
      "    (9): Linear(in_features=100, out_features=10, bias=True)\n",
      "  )\n",
      ")\n"
     ]
    }
   ],
   "source": [
    "class Bottleneck(nn.Module):\n",
    "    def __init__(self, in_channels, reduction_factor):\n",
    "        super(Bottleneck, self).__init__()\n",
    "        self.bottleneck = nn.Conv2d(in_channels,in_channels // reduction_factor, kernel_size=1)\n",
    "        self.maxpo=nn.MaxPool2d(kernel_size=1)\n",
    "        self.conv = nn.Conv2d(in_channels // reduction_factor, in_channels // reduction_factor, \n",
    "                              padding=1, kernel_size=3)\n",
    "        self.maxpo2=nn.MaxPool2d(kernel_size=1)\n",
    "        self.expansion = nn.Conv2d(in_channels // reduction_factor, in_channels, kernel_size=1)\n",
    "        self.act = nn.ReLU()\n",
    "        \n",
    "    def forward(self, x):\n",
    "        x = self.act(self.bottleneck(x))\n",
    "        x = self.act(self.maxpo(x))\n",
    "        x = self.act(self.conv(x))\n",
    "        x = self.act(self.maxpo2(x))\n",
    "        x = self.expansion(x)\n",
    "        return x\n",
    "    \n",
    "\n",
    "class ResidualBlock(nn.Module):\n",
    "    def __init__(self, in_channels, reduction_factor):\n",
    "        super(ResidualBlock, self).__init__()\n",
    "        self.bottleneck = Bottleneck(in_channels, reduction_factor)\n",
    "        \n",
    "    def forward(self, x):\n",
    "        return x + self.bottleneck(x)\n",
    "    \n",
    "    \n",
    "class GlobalAveragePooling(nn.Module):\n",
    "    def forward(self, x):\n",
    "        return torch.mean(x.view(x.size(0), x.size(1), -1), dim=2)\n",
    "    \n",
    "    \n",
    "class CNN(nn.Module):\n",
    "    def __init__(self):\n",
    "        super(CNN, self).__init__()\n",
    "        C = 256\n",
    "        n_classes = 10\n",
    "        \n",
    "        \n",
    "        self.network = nn.Sequential(\n",
    "                nn.Conv2d(in_channels=3, out_channels=C, kernel_size=3),\n",
    "                nn.ELU(),\n",
    "                nn.AvgPool2d(kernel_size=2),\n",
    "                ResidualBlock(C, 2),\n",
    "                nn.LeakyReLU(),\n",
    "                GlobalAveragePooling(),\n",
    "                nn.Linear(C, 100),\n",
    "                nn.ReLU(),\n",
    "                nn.Dropout(p=0.30),\n",
    "                nn.Linear(100, n_classes)\n",
    "        )\n",
    "        \n",
    "    def forward(self, x, verbose=False):\n",
    "        return self.network(x)\n",
    "        \n",
    "        \n",
    "net = CNN()\n",
    "net.to(device)\n",
    "print(\"# of parameters: {}\".format(get_params_num(net)))\n",
    "print(net)"
   ]
  },
  {
   "cell_type": "code",
   "execution_count": 41,
   "metadata": {},
   "outputs": [
    {
     "name": "stdout",
     "output_type": "stream",
     "text": [
      "[EPOCH]: 19, [BATCH]: 750/782, [LOSS]: 0.6723637580871582\n"
     ]
    }
   ],
   "source": [
    "lr = 0.001\n",
    "epochs = 20\n",
    "\n",
    "n_batches = len(trainloader)\n",
    "\n",
    "criterion = nn.CrossEntropyLoss()\n",
    "optimizer = optim.Adam(net.parameters(), lr=lr)\n",
    "\n",
    "net.train() \n",
    "for e in range(epochs):\n",
    "    for i, data in enumerate(trainloader):\n",
    "        batch = data[0].to(device)\n",
    "        labels = data[1].to(device)      \n",
    "        outputs = net(batch)\n",
    "        loss = criterion(outputs, labels)\n",
    "        \n",
    "        optimizer.zero_grad()\n",
    "        loss.backward()\n",
    "        optimizer.step()\n",
    "        if i % 50 == 0:\n",
    "            print(\"[EPOCH]: {}, [BATCH]: {}/{}, [LOSS]: {}\".format(e, i, n_batches, loss.item()))\n",
    "            display.clear_output(wait=True)"
   ]
  },
  {
   "cell_type": "code",
   "execution_count": 42,
   "metadata": {},
   "outputs": [
    {
     "name": "stdout",
     "output_type": "stream",
     "text": [
      "Train accuracy: 0.75874\n",
      "Test accuracy: 0.7047\n"
     ]
    }
   ],
   "source": [
    "acc_train = get_accuracy(trainloader, net, device=device)\n",
    "acc_test = get_accuracy(testloader, net, device=device)\n",
    "print(\"Train accuracy: {}\\nTest accuracy: {}\".format(acc_train, acc_test))"
   ]
  },
  {
   "cell_type": "markdown",
   "metadata": {},
   "source": [
    "#### It can be considered a good performance\n"
   ]
  },
  {
   "cell_type": "code",
   "execution_count": null,
   "metadata": {},
   "outputs": [],
   "source": []
  }
 ],
 "metadata": {
  "kernelspec": {
   "display_name": "Python 3",
   "language": "python",
   "name": "python3"
  },
  "language_info": {
   "codemirror_mode": {
    "name": "ipython",
    "version": 3
   },
   "file_extension": ".py",
   "mimetype": "text/x-python",
   "name": "python",
   "nbconvert_exporter": "python",
   "pygments_lexer": "ipython3",
   "version": "3.7.6"
  }
 },
 "nbformat": 4,
 "nbformat_minor": 4
}
